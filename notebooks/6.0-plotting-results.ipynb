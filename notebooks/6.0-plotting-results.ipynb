{
 "cells": [
  {
   "cell_type": "markdown",
   "source": [
    "# Plotting Results"
   ],
   "metadata": {
    "collapsed": false
   }
  },
  {
   "cell_type": "markdown",
   "source": [
    "## 1. Importing dataset"
   ],
   "metadata": {
    "collapsed": false
   }
  },
  {
   "cell_type": "code",
   "execution_count": 1,
   "outputs": [],
   "source": [
    "import pickle\n",
    "from src.data.make_dataset import TextDataset\n",
    "\n",
    "df = pickle.load(open('../data/interim/text_dataset.pkl', 'rb'))"
   ],
   "metadata": {
    "collapsed": false,
    "ExecuteTime": {
     "end_time": "2023-11-05T16:05:44.274433Z",
     "start_time": "2023-11-05T16:05:42.896918Z"
    }
   }
  },
  {
   "cell_type": "code",
   "execution_count": 2,
   "outputs": [
    {
     "data": {
      "text/plain": "                                                toxic  \\\n5   I'm not gonna have a child... ...with the same...   \n6   They're all laughing at us, so we'll kick your...   \n7     Maine was very short on black people back then.   \n11  So now their spirits are cursed, walking back ...   \n13               Come on, Cal, leave that shit alone.   \n\n                                               normal  toxic_reduction  \\\n5   I'm not going to breed kids with a genetic dis...         0.915109   \n6             they're laughing at us. We'll show you.         0.999361   \n7              there wasn't much black in Maine then.         0.814971   \n11  their souls are cursed, they guard the paths, ...         0.698517   \n13                         come on, Cal, put it down.         0.999357   \n\n    toxic_score  normal_score  \n5      0.950956      0.035846  \n6      0.999492      0.000131  \n7      0.963680      0.148710  \n11     0.842509      0.143992  \n13     0.999637      0.000279  ",
      "text/html": "<div>\n<style scoped>\n    .dataframe tbody tr th:only-of-type {\n        vertical-align: middle;\n    }\n\n    .dataframe tbody tr th {\n        vertical-align: top;\n    }\n\n    .dataframe thead th {\n        text-align: right;\n    }\n</style>\n<table border=\"1\" class=\"dataframe\">\n  <thead>\n    <tr style=\"text-align: right;\">\n      <th></th>\n      <th>toxic</th>\n      <th>normal</th>\n      <th>toxic_reduction</th>\n      <th>toxic_score</th>\n      <th>normal_score</th>\n    </tr>\n  </thead>\n  <tbody>\n    <tr>\n      <th>5</th>\n      <td>I'm not gonna have a child... ...with the same...</td>\n      <td>I'm not going to breed kids with a genetic dis...</td>\n      <td>0.915109</td>\n      <td>0.950956</td>\n      <td>0.035846</td>\n    </tr>\n    <tr>\n      <th>6</th>\n      <td>They're all laughing at us, so we'll kick your...</td>\n      <td>they're laughing at us. We'll show you.</td>\n      <td>0.999361</td>\n      <td>0.999492</td>\n      <td>0.000131</td>\n    </tr>\n    <tr>\n      <th>7</th>\n      <td>Maine was very short on black people back then.</td>\n      <td>there wasn't much black in Maine then.</td>\n      <td>0.814971</td>\n      <td>0.963680</td>\n      <td>0.148710</td>\n    </tr>\n    <tr>\n      <th>11</th>\n      <td>So now their spirits are cursed, walking back ...</td>\n      <td>their souls are cursed, they guard the paths, ...</td>\n      <td>0.698517</td>\n      <td>0.842509</td>\n      <td>0.143992</td>\n    </tr>\n    <tr>\n      <th>13</th>\n      <td>Come on, Cal, leave that shit alone.</td>\n      <td>come on, Cal, put it down.</td>\n      <td>0.999357</td>\n      <td>0.999637</td>\n      <td>0.000279</td>\n    </tr>\n  </tbody>\n</table>\n</div>"
     },
     "execution_count": 2,
     "metadata": {},
     "output_type": "execute_result"
    }
   ],
   "source": [
    "df.data.head()"
   ],
   "metadata": {
    "collapsed": false,
    "ExecuteTime": {
     "end_time": "2023-11-05T16:05:44.282833Z",
     "start_time": "2023-11-05T16:05:44.277058Z"
    }
   }
  },
  {
   "cell_type": "markdown",
   "source": [
    "## 2. Loading toxicity classifier"
   ],
   "metadata": {
    "collapsed": false
   }
  },
  {
   "cell_type": "code",
   "execution_count": 3,
   "outputs": [
    {
     "name": "stderr",
     "output_type": "stream",
     "text": [
      "Some weights of the model checkpoint at s-nlp/roberta_toxicity_classifier_v1 were not used when initializing RobertaForSequenceClassification: ['roberta.pooler.dense.weight', 'roberta.pooler.dense.bias']\n",
      "- This IS expected if you are initializing RobertaForSequenceClassification from the checkpoint of a model trained on another task or with another architecture (e.g. initializing a BertForSequenceClassification model from a BertForPreTraining model).\n",
      "- This IS NOT expected if you are initializing RobertaForSequenceClassification from the checkpoint of a model that you expect to be exactly identical (initializing a BertForSequenceClassification model from a BertForSequenceClassification model).\n"
     ]
    }
   ],
   "source": [
    "from transformers import RobertaForSequenceClassification, RobertaTokenizer\n",
    "\n",
    "clf_name = 's-nlp/roberta_toxicity_classifier_v1'\n",
    "clf = RobertaForSequenceClassification.from_pretrained(clf_name)\n",
    "clf_tokenizer = RobertaTokenizer.from_pretrained(clf_name)"
   ],
   "metadata": {
    "collapsed": false,
    "ExecuteTime": {
     "end_time": "2023-11-05T16:05:47.370549Z",
     "start_time": "2023-11-05T16:05:44.283071Z"
    }
   }
  },
  {
   "cell_type": "code",
   "execution_count": 4,
   "outputs": [],
   "source": [
    "def compute_toxicity(model, tokenizer, prompts):\n",
    "    with torch.inference_mode():\n",
    "        inputs = tokenizer(prompts, return_tensors='pt', padding=True).to(DEVICE)\n",
    "\n",
    "        out = torch.softmax(model(**inputs).logits, -1)[:, 1].cpu().numpy()\n",
    "\n",
    "    return out"
   ],
   "metadata": {
    "collapsed": false,
    "ExecuteTime": {
     "end_time": "2023-11-05T16:05:47.373927Z",
     "start_time": "2023-11-05T16:05:47.370848Z"
    }
   }
  },
  {
   "cell_type": "markdown",
   "source": [
    "## 3. Loading GPT-2 based generator"
   ],
   "metadata": {
    "collapsed": false
   }
  },
  {
   "cell_type": "code",
   "execution_count": 5,
   "outputs": [],
   "source": [
    "import torch\n",
    "from transformers import AutoTokenizer, AutoModelForSeq2SeqLM, AutoModelForCausalLM\n",
    "from src.models.model_class import GediAdapter"
   ],
   "metadata": {
    "collapsed": false,
    "ExecuteTime": {
     "end_time": "2023-11-05T16:05:47.379613Z",
     "start_time": "2023-11-05T16:05:47.375916Z"
    }
   }
  },
  {
   "cell_type": "code",
   "execution_count": 6,
   "outputs": [],
   "source": [
    "tokenizer_name = \"s-nlp/t5-paraphrase-paws-msrp-opinosis-paranmt\"\n",
    "model_name = tokenizer_name\n",
    "dis_name = 's-nlp/gpt2-base-gedi-detoxification'\n",
    "\n",
    "device = 'cpu'"
   ],
   "metadata": {
    "collapsed": false,
    "ExecuteTime": {
     "end_time": "2023-11-05T16:05:47.382530Z",
     "start_time": "2023-11-05T16:05:47.380578Z"
    }
   }
  },
  {
   "cell_type": "code",
   "execution_count": 7,
   "outputs": [],
   "source": [
    "tokenizer = AutoTokenizer.from_pretrained(tokenizer_name)\n",
    "\n",
    "NEW_POS = tokenizer.encode('normal', add_special_tokens=False)[0]\n",
    "NEW_NEG = tokenizer.encode('toxic', add_special_tokens=False)[0]"
   ],
   "metadata": {
    "collapsed": false,
    "ExecuteTime": {
     "end_time": "2023-11-05T16:05:48.359094Z",
     "start_time": "2023-11-05T16:05:47.383453Z"
    }
   }
  },
  {
   "cell_type": "code",
   "execution_count": 8,
   "outputs": [
    {
     "data": {
      "text/plain": "Embedding(32100, 768)"
     },
     "execution_count": 8,
     "metadata": {},
     "output_type": "execute_result"
    }
   ],
   "source": [
    "model = AutoModelForSeq2SeqLM.from_pretrained(model_name)\n",
    "model.resize_token_embeddings(len(tokenizer))"
   ],
   "metadata": {
    "collapsed": false,
    "ExecuteTime": {
     "end_time": "2023-11-05T16:05:50.305992Z",
     "start_time": "2023-11-05T16:05:48.357762Z"
    }
   }
  },
  {
   "cell_type": "code",
   "execution_count": 9,
   "outputs": [
    {
     "name": "stderr",
     "output_type": "stream",
     "text": [
      "Some weights of the model checkpoint at s-nlp/gpt2-base-gedi-detoxification were not used when initializing GPT2LMHeadModel: ['bias', 'logit_scale']\n",
      "- This IS expected if you are initializing GPT2LMHeadModel from the checkpoint of a model trained on another task or with another architecture (e.g. initializing a BertForSequenceClassification model from a BertForPreTraining model).\n",
      "- This IS NOT expected if you are initializing GPT2LMHeadModel from the checkpoint of a model that you expect to be exactly identical (initializing a BertForSequenceClassification model from a BertForSequenceClassification model).\n"
     ]
    },
    {
     "data": {
      "text/plain": "GPT2LMHeadModel(\n  (transformer): GPT2Model(\n    (wte): Embedding(32100, 1024)\n    (wpe): Embedding(1024, 1024)\n    (drop): Dropout(p=0.1, inplace=False)\n    (h): ModuleList(\n      (0-23): 24 x GPT2Block(\n        (ln_1): LayerNorm((1024,), eps=1e-05, elementwise_affine=True)\n        (attn): GPT2Attention(\n          (c_attn): Conv1D()\n          (c_proj): Conv1D()\n          (attn_dropout): Dropout(p=0.1, inplace=False)\n          (resid_dropout): Dropout(p=0.1, inplace=False)\n        )\n        (ln_2): LayerNorm((1024,), eps=1e-05, elementwise_affine=True)\n        (mlp): GPT2MLP(\n          (c_fc): Conv1D()\n          (c_proj): Conv1D()\n          (act): NewGELUActivation()\n          (dropout): Dropout(p=0.1, inplace=False)\n        )\n      )\n    )\n    (ln_f): LayerNorm((1024,), eps=1e-05, elementwise_affine=True)\n  )\n  (lm_head): Linear(in_features=1024, out_features=32100, bias=False)\n)"
     },
     "execution_count": 9,
     "metadata": {},
     "output_type": "execute_result"
    }
   ],
   "source": [
    "gedi_dis = AutoModelForCausalLM.from_pretrained(dis_name)\n",
    "\n",
    "gedi_dis.bias = torch.tensor([[0.08441592, -0.08441573]])\n",
    "gedi_dis.logit_scale = torch.tensor([[1.2701858]])\n",
    "\n",
    "gedi_dis.eval()"
   ],
   "metadata": {
    "collapsed": false,
    "ExecuteTime": {
     "end_time": "2023-11-05T16:05:55.350939Z",
     "start_time": "2023-11-05T16:05:50.307554Z"
    }
   }
  },
  {
   "cell_type": "code",
   "execution_count": 10,
   "outputs": [],
   "source": [
    "gedi_adapter = GediAdapter(\n",
    "    model=model,\n",
    "    gedi_model=gedi_dis,\n",
    "    tokenizer=tokenizer,\n",
    "    gedi_logit_coef=10,\n",
    "    target=0,\n",
    "    reg_alpha=3e-5,\n",
    "    neg_code=NEW_NEG,\n",
    "    pos_code=NEW_POS,\n",
    "    ub=0.01\n",
    ")"
   ],
   "metadata": {
    "collapsed": false,
    "ExecuteTime": {
     "end_time": "2023-11-05T16:05:55.356089Z",
     "start_time": "2023-11-05T16:05:55.351733Z"
    }
   }
  },
  {
   "cell_type": "code",
   "execution_count": 21,
   "outputs": [],
   "source": [
    "from src.models.config import COMMON_GEN_CONF, DEVICE\n",
    "\n",
    "\n",
    "def process_prompt(model, prompt):\n",
    "    inputs = model.tokenizer.encode(prompt, return_tensors='pt').to(DEVICE)\n",
    "    results_raw = model.generate(\n",
    "        inputs,\n",
    "        num_return_sequences=1,\n",
    "        **COMMON_GEN_CONF,\n",
    "        max_length=100\n",
    "    )\n",
    "    results = [\n",
    "        model.tokenizer.decode(r, skip_special_tokens=True)\n",
    "        for r in results_raw\n",
    "    ]\n",
    "\n",
    "    return results[0]\n"
   ],
   "metadata": {
    "collapsed": false,
    "ExecuteTime": {
     "end_time": "2023-11-05T16:18:06.507938Z",
     "start_time": "2023-11-05T16:18:06.499661Z"
    }
   }
  },
  {
   "cell_type": "markdown",
   "source": [
    "## 4. Plotting the results"
   ],
   "metadata": {
    "collapsed": false
   }
  },
  {
   "cell_type": "code",
   "execution_count": 22,
   "outputs": [],
   "source": [
    "import matplotlib.pyplot as plt\n",
    "\n",
    "sentences_sample = df.data.sample(n=50)\n",
    "\n",
    "toxic_sentences = sentences_sample['toxic'].tolist()\n",
    "normal_sentences = sentences_sample['normal'].tolist()\n",
    "\n",
    "model_results = [\n",
    "    process_prompt(gedi_adapter, sent)\n",
    "    for sent in toxic_sentences\n",
    "]\n",
    "\n",
    "model_toxicity = compute_toxicity(clf, clf_tokenizer, model_results)\n",
    "target_toxicity = compute_toxicity(clf, clf_tokenizer, normal_sentences)\n",
    "initial_toxiciy = compute_toxicity(clf, clf_tokenizer, toxic_sentences)"
   ],
   "metadata": {
    "collapsed": false,
    "ExecuteTime": {
     "end_time": "2023-11-05T16:24:38.562788Z",
     "start_time": "2023-11-05T16:18:06.830744Z"
    }
   }
  },
  {
   "cell_type": "code",
   "execution_count": 23,
   "outputs": [
    {
     "data": {
      "text/plain": "<Figure size 640x480 with 1 Axes>",
      "image/png": "[encoded data removed]"
     },
     "metadata": {},
     "output_type": "display_data"
    }
   ],
   "source": [
    "plt.title('Toxicity change after model')\n",
    "plt.plot(model_toxicity, 'r', label='Model toxicity')\n",
    "plt.plot(target_toxicity, 'b', label='Target toxicity')\n",
    "plt.plot(initial_toxiciy, 'g', label='Initial toxicity')\n",
    "plt.legend()\n",
    "\n",
    "plt.savefig('../reports/figures/toxicity_change_after_model.png')\n",
    "\n",
    "plt.show()"
   ],
   "metadata": {
    "collapsed": false,
    "ExecuteTime": {
     "end_time": "2023-11-05T16:24:38.725914Z",
     "start_time": "2023-11-05T16:24:38.588958Z"
    }
   }
  },
  {
   "cell_type": "code",
   "execution_count": 26,
   "outputs": [
    {
     "name": "stdout",
     "output_type": "stream",
     "text": [
      "('shh, shut up.', 'Shut-up.', 0.9994789, 0.9976534)\n",
      "('\"so look, Henry, you bloody verbal plein, I\\'m not going to be blackmailed.\"', '\"So look, Henry, bloody verbal plein, I\\'m not going to be robbed.\"', 0.99054366, 0.9678927)\n",
      "('Murderer Wanted.', 'a Murderer Wanted.', 0.97569567, 0.4327595)\n",
      "('you guys look like a couple of hot dogs.', 'Looks like a couple of hot dogs.', 0.5666215, 0.00014324154)\n",
      "('Put a baby inside of me.', 'put the baby inside me.', 0.75244075, 0.0055966927)\n",
      "('Jesus. You scared the shit out of me.', 'Jesus... You scared me.', 0.8011189, 0.013412761)\n",
      "('Through streets Cutter had once known now made strange by mortars, with neglected bunting in the colours of factions, with signs proclaiming idiot theories or new churches, new things, new ways of being, split and peeling.', 'through the streets, which Cutter had once known, he now found strange by mortars with neglected ribbons in the colours of factions; signs proclaiming deceptive theories or new churches; new things; new ways of living; broken and peeling.', 0.80737156, 0.00013989994)\n",
      "(\"I'm going to guess... they're gonna kill us in the rescue of Monroe?\", \"I'd guess... They'll take us to Monroe's rescue?\", 0.8122293, 4.284518e-05)\n",
      "('the man, cursed for Minotaur.', 'The Man cursed Minotaur.', 0.8393266, 0.012354375)\n",
      "(\"You plead him guilty today, I'll ask for life. Otherwise, he dies.\", \"if you plead guilty today, I'd ask for life.\", 0.992, 0.10637362)\n"
     ]
    }
   ],
   "source": [
    "print(*sorted(list(zip(toxic_sentences, model_results, initial_toxiciy, model_toxicity)), key=lambda x: x[2] - x[3])[:10], sep='\\n')"
   ],
   "metadata": {
    "collapsed": false,
    "ExecuteTime": {
     "end_time": "2023-11-05T16:25:09.328004Z",
     "start_time": "2023-11-05T16:25:09.323524Z"
    }
   }
  }
 ],
 "metadata": {
  "kernelspec": {
   "display_name": "Python 3",
   "language": "python",
   "name": "python3"
  },
  "language_info": {
   "codemirror_mode": {
    "name": "ipython",
    "version": 2
   },
   "file_extension": ".py",
   "mimetype": "text/x-python",
   "name": "python",
   "nbconvert_exporter": "python",
   "pygments_lexer": "ipython2",
   "version": "2.7.6"
  }
 },
 "nbformat": 4,
 "nbformat_minor": 0
}
