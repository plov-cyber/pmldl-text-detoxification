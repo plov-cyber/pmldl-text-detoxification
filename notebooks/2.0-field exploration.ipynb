{
 "cells": [
  {
   "cell_type": "markdown",
   "source": [
    "# Field Exploration"
   ],
   "metadata": {
    "collapsed": false
   },
   "id": "73ca34b4a705d13c"
  },
  {
   "cell_type": "markdown",
   "source": [
    "## 1. Importing Libraries"
   ],
   "metadata": {
    "collapsed": false
   },
   "id": "dd777d99d77393a9"
  },
  {
   "cell_type": "code",
   "execution_count": 13,
   "outputs": [],
   "source": [
    "import numpy as np\n",
    "import matplotlib.pyplot as plt\n",
    "import pandas as pd\n",
    "import seaborn as sns\n",
    "import os\n",
    "import pickle\n",
    "import sys\n",
    "import warnings\n",
    "from src.data.make_dataset import TextDataset\n",
    "warnings.filterwarnings('ignore')"
   ],
   "metadata": {
    "collapsed": false,
    "ExecuteTime": {
     "end_time": "2023-10-29T12:37:58.090354Z",
     "start_time": "2023-10-29T12:37:58.087782Z"
    }
   },
   "id": "47522ee9fc5d56f1"
  },
  {
   "cell_type": "markdown",
   "source": [
    "## 2. Importing Dataset"
   ],
   "metadata": {
    "collapsed": false
   },
   "id": "87578b28349ea869"
  },
  {
   "cell_type": "code",
   "execution_count": 129,
   "outputs": [],
   "source": [
    "df = pickle.load(open('../data/interim/text_dataset.pkl', 'rb')).data"
   ],
   "metadata": {
    "collapsed": false,
    "ExecuteTime": {
     "end_time": "2023-10-29T15:30:06.899312Z",
     "start_time": "2023-10-29T15:30:03.630296Z"
    }
   },
   "id": "911661575ca87339"
  },
  {
   "cell_type": "markdown",
   "source": [
    "## 3. Exploring Dataset"
   ],
   "metadata": {
    "collapsed": false
   }
  },
  {
   "cell_type": "markdown",
   "source": [
    "After the preprocessing, the dataset is composed of 3 columns:\n",
    "- `toxic`: toxic version of the sentence\n",
    "- `normal`: non-toxic version of the sentence\n",
    "- `toxic_reduction`: toxicity difference between the toxic and normal version of the sentence"
   ],
   "metadata": {
    "collapsed": false
   }
  },
  {
   "cell_type": "code",
   "execution_count": 130,
   "outputs": [
    {
     "data": {
      "text/plain": "                                                    toxic  \\\n302957  [going, let, pas, mass, spectrometer, gon, na,...   \n274475                          [tie, put, cuff, control]   \n368899                                 [smothered, death]   \n321294               [kill, fire, fire, forever, worship]   \n128885                [remember, must, harmed, worthless]   \n\n                                                   normal  toxic_reduction  \n302957  [fine, gon, na, run, mass, spec, find, making,...         0.500002  \n274475  [going, tie, going, handcuff, going, take, con...         0.500002  \n368899                                       [suffocated]         0.500002  \n321294                       [kill, fire, plant, worship]         0.500002  \n128885               [remember, harmed, worthless, trade]         0.500004  ",
      "text/html": "<div>\n<style scoped>\n    .dataframe tbody tr th:only-of-type {\n        vertical-align: middle;\n    }\n\n    .dataframe tbody tr th {\n        vertical-align: top;\n    }\n\n    .dataframe thead th {\n        text-align: right;\n    }\n</style>\n<table border=\"1\" class=\"dataframe\">\n  <thead>\n    <tr style=\"text-align: right;\">\n      <th></th>\n      <th>toxic</th>\n      <th>normal</th>\n      <th>toxic_reduction</th>\n    </tr>\n  </thead>\n  <tbody>\n    <tr>\n      <th>302957</th>\n      <td>[going, let, pas, mass, spectrometer, gon, na,...</td>\n      <td>[fine, gon, na, run, mass, spec, find, making,...</td>\n      <td>0.500002</td>\n    </tr>\n    <tr>\n      <th>274475</th>\n      <td>[tie, put, cuff, control]</td>\n      <td>[going, tie, going, handcuff, going, take, con...</td>\n      <td>0.500002</td>\n    </tr>\n    <tr>\n      <th>368899</th>\n      <td>[smothered, death]</td>\n      <td>[suffocated]</td>\n      <td>0.500002</td>\n    </tr>\n    <tr>\n      <th>321294</th>\n      <td>[kill, fire, fire, forever, worship]</td>\n      <td>[kill, fire, plant, worship]</td>\n      <td>0.500002</td>\n    </tr>\n    <tr>\n      <th>128885</th>\n      <td>[remember, must, harmed, worthless]</td>\n      <td>[remember, harmed, worthless, trade]</td>\n      <td>0.500004</td>\n    </tr>\n  </tbody>\n</table>\n</div>"
     },
     "execution_count": 130,
     "metadata": {},
     "output_type": "execute_result"
    }
   ],
   "source": [
    "df.sort_values('toxic_reduction', ascending=True).head()"
   ],
   "metadata": {
    "collapsed": false,
    "ExecuteTime": {
     "end_time": "2023-10-29T15:30:07.444619Z",
     "start_time": "2023-10-29T15:30:07.332376Z"
    }
   }
  },
  {
   "cell_type": "markdown",
   "source": [
    "We can see that sentences with toxic_reduction close to 0.5 are almost the same in both versions. Also, we can notice that there are no sentences with toxic_reduction less than 0.5."
   ],
   "metadata": {
    "collapsed": false
   }
  },
  {
   "cell_type": "code",
   "execution_count": 131,
   "outputs": [
    {
     "data": {
      "text/plain": "                                                   toxic  \\\n513596        [stupid, meaningful, relationship, stella]   \n155243  [started, firm, day, said, goodbye, stupid, bos]   \n506123                            [idiot, station, sure]   \n336425                               [think, shit, dawg]   \n429942                         [like, stupid, game, tom]   \n\n                                         normal  toxic_reduction  \n513596       [meaningful, relationship, stella]         0.999681  \n155243  [day, started, business, said, goodbye]         0.999678  \n506123                          [type, station]         0.999677  \n336425                           [think, buddy]         0.999677  \n429942                        [like, game, tom]         0.999677  ",
      "text/html": "<div>\n<style scoped>\n    .dataframe tbody tr th:only-of-type {\n        vertical-align: middle;\n    }\n\n    .dataframe tbody tr th {\n        vertical-align: top;\n    }\n\n    .dataframe thead th {\n        text-align: right;\n    }\n</style>\n<table border=\"1\" class=\"dataframe\">\n  <thead>\n    <tr style=\"text-align: right;\">\n      <th></th>\n      <th>toxic</th>\n      <th>normal</th>\n      <th>toxic_reduction</th>\n    </tr>\n  </thead>\n  <tbody>\n    <tr>\n      <th>513596</th>\n      <td>[stupid, meaningful, relationship, stella]</td>\n      <td>[meaningful, relationship, stella]</td>\n      <td>0.999681</td>\n    </tr>\n    <tr>\n      <th>155243</th>\n      <td>[started, firm, day, said, goodbye, stupid, bos]</td>\n      <td>[day, started, business, said, goodbye]</td>\n      <td>0.999678</td>\n    </tr>\n    <tr>\n      <th>506123</th>\n      <td>[idiot, station, sure]</td>\n      <td>[type, station]</td>\n      <td>0.999677</td>\n    </tr>\n    <tr>\n      <th>336425</th>\n      <td>[think, shit, dawg]</td>\n      <td>[think, buddy]</td>\n      <td>0.999677</td>\n    </tr>\n    <tr>\n      <th>429942</th>\n      <td>[like, stupid, game, tom]</td>\n      <td>[like, game, tom]</td>\n      <td>0.999677</td>\n    </tr>\n  </tbody>\n</table>\n</div>"
     },
     "execution_count": 131,
     "metadata": {},
     "output_type": "execute_result"
    }
   ],
   "source": [
    "df.sort_values('toxic_reduction', ascending=False).head()"
   ],
   "metadata": {
    "collapsed": false,
    "ExecuteTime": {
     "end_time": "2023-10-29T15:30:08.886862Z",
     "start_time": "2023-10-29T15:30:08.771917Z"
    }
   }
  },
  {
   "cell_type": "markdown",
   "source": [
    "From the sentences with the most toxicity reduction, we can see that the toxic version of the sentence is almost the same as the normal version, but with some words replaced by their synonyms or even removed. Instantly comes the idea for baseline model: just remove the toxic words from the sentence."
   ],
   "metadata": {
    "collapsed": false
   }
  },
  {
   "cell_type": "markdown",
   "source": [
    "### Finding the difference between the toxic and normal version of the sentence"
   ],
   "metadata": {
    "collapsed": false
   }
  },
  {
   "cell_type": "code",
   "execution_count": 133,
   "outputs": [],
   "source": [
    "all_words_from_toxic_sentences = set([word for sentence in df['toxic'].values for word in sentence])\n",
    "all_words_from_normal_sentences = set([word for sentence in df['normal'].values for word in sentence])"
   ],
   "metadata": {
    "collapsed": false,
    "ExecuteTime": {
     "end_time": "2023-10-29T15:30:15.853258Z",
     "start_time": "2023-10-29T15:30:15.522947Z"
    }
   }
  },
  {
   "cell_type": "code",
   "execution_count": 134,
   "outputs": [],
   "source": [
    "toxic_words = all_words_from_toxic_sentences.difference(all_words_from_normal_sentences)"
   ],
   "metadata": {
    "collapsed": false,
    "ExecuteTime": {
     "end_time": "2023-10-29T15:30:16.889571Z",
     "start_time": "2023-10-29T15:30:16.885232Z"
    }
   }
  },
  {
   "cell_type": "code",
   "execution_count": 135,
   "outputs": [
    {
     "data": {
      "text/plain": "18936"
     },
     "execution_count": 135,
     "metadata": {},
     "output_type": "execute_result"
    }
   ],
   "source": [
    "len(toxic_words)"
   ],
   "metadata": {
    "collapsed": false,
    "ExecuteTime": {
     "end_time": "2023-10-29T15:30:17.514133Z",
     "start_time": "2023-10-29T15:30:17.508325Z"
    }
   }
  },
  {
   "cell_type": "code",
   "execution_count": 150,
   "outputs": [
    {
     "data": {
      "text/plain": "['masteryoda',\n 'nosiest',\n 'fuckery',\n 'stuporous',\n 'celestic',\n 'ofbones',\n 'stanky',\n 'vanja',\n 'somethingmore',\n 'dongrangov']"
     },
     "execution_count": 150,
     "metadata": {},
     "output_type": "execute_result"
    }
   ],
   "source": [
    "import random\n",
    "\n",
    "random.sample(toxic_words, 10)"
   ],
   "metadata": {
    "collapsed": false,
    "ExecuteTime": {
     "end_time": "2023-10-29T15:31:33.374438Z",
     "start_time": "2023-10-29T15:31:33.370763Z"
    }
   }
  },
  {
   "cell_type": "markdown",
   "source": [
    "Many words from this set are just misspelled words or words not present in normal sentences."
   ],
   "metadata": {
    "collapsed": false
   }
  },
  {
   "cell_type": "markdown",
   "source": [
    "### Finding the most common toxic words"
   ],
   "metadata": {
    "collapsed": false
   }
  },
  {
   "cell_type": "code",
   "execution_count": 151,
   "outputs": [],
   "source": [
    "from collections import Counter\n",
    "\n",
    "toxic_words_counter = Counter([word for sentence in df['toxic'].values for word in sentence])"
   ],
   "metadata": {
    "collapsed": false,
    "ExecuteTime": {
     "end_time": "2023-10-29T15:32:11.433756Z",
     "start_time": "2023-10-29T15:32:11.432029Z"
    }
   }
  },
  {
   "cell_type": "code",
   "execution_count": 152,
   "outputs": [
    {
     "data": {
      "text/plain": "[('like', 34989),\n ('shit', 32183),\n ('fucking', 30957),\n ('get', 26970),\n ('know', 22888),\n ('kill', 21720),\n ('want', 21317),\n ('damn', 21188),\n ('fuck', 20768),\n ('hell', 20626)]"
     },
     "execution_count": 152,
     "metadata": {},
     "output_type": "execute_result"
    }
   ],
   "source": [
    "toxic_words_counter.most_common(10)"
   ],
   "metadata": {
    "collapsed": false,
    "ExecuteTime": {
     "end_time": "2023-10-29T15:32:13.559508Z",
     "start_time": "2023-10-29T15:32:13.555380Z"
    }
   }
  },
  {
   "cell_type": "markdown",
   "source": [
    "However, the most common toxic words are in fact toxic words. Some of them, like 'like' are just used in toxic sentences more often than in normal sentences."
   ],
   "metadata": {
    "collapsed": false
   }
  },
  {
   "cell_type": "markdown",
   "source": [
    "### Saving the set of toxic words"
   ],
   "metadata": {
    "collapsed": false
   }
  },
  {
   "cell_type": "code",
   "execution_count": 153,
   "outputs": [],
   "source": [
    "with open('../data/interim/toxic_words.pkl', 'wb') as f:\n",
    "    pickle.dump(toxic_words, f)"
   ],
   "metadata": {
    "collapsed": false,
    "ExecuteTime": {
     "end_time": "2023-10-29T15:34:52.548809Z",
     "start_time": "2023-10-29T15:34:52.536832Z"
    }
   }
  }
 ],
 "metadata": {
  "kernelspec": {
   "display_name": "Python 3",
   "language": "python",
   "name": "python3"
  },
  "language_info": {
   "codemirror_mode": {
    "name": "ipython",
    "version": 2
   },
   "file_extension": ".py",
   "mimetype": "text/x-python",
   "name": "python",
   "nbconvert_exporter": "python",
   "pygments_lexer": "ipython2",
   "version": "2.7.6"
  }
 },
 "nbformat": 4,
 "nbformat_minor": 5
}
